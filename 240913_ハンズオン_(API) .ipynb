{
  "cells": [
    {
      "cell_type": "markdown",
      "metadata": {
        "id": "BymhbEkaswDH"
      },
      "source": [
        "# ChatGPT API体験(前半)\n",
        "\n",
        "## 免責事項\n",
        "> これは㈱Tech0によって提供される企業向けプログラムのWS用ファイルであり、その目的に特化して作成されています。当社では、このファイルを使用した際に発生する可能性のあるいかなる不具合についても責任を負いかねます。<br>ファイルの品質と機能性を確保するために万全を尽くしておりますが、万一の不具合発生時にはご理解いただけますようお願い申し上げます。\n",
        "\n",
        "## 操作方法\n",
        "\n",
        "下記に用意されているコードに対して、<br>\n",
        "> windows: コードブロックを選択した状態でCtrl + Enter<br>\n",
        ">Mac: コードブロックを選択した状態でCommand + Enter\n",
        "\n",
        "もしくは▶マークを選択して、コードを起動してください。\n",
        "\n",
        "## 確認\n",
        "\n",
        "コードブロック横が✔になれば動作は完了しています。<br>\n",
        "Warningが表示されていたとしても、先に続くコードが活用できていれば基本問題はございません。"
      ]
    },
    {
      "cell_type": "markdown",
      "metadata": {},
      "source": [
        "# APIハンズオンセッション\n",
        "\n",
        "## 事前準備: 必要なライブラリのインストール\n",
        "\n",
        "まず、動作確認も含め、必要なライブラリをインストールします。\n",
        "\n"
      ]
    },
    {
      "cell_type": "code",
      "execution_count": null,
      "metadata": {},
      "outputs": [],
      "source": [
        "!pip install requests gspread oauth2client\n",
        "!pip install pandas"
      ]
    },
    {
      "cell_type": "markdown",
      "metadata": {},
      "source": [
        "問題なく動作しましたか？もしコードをはじめて動かす方はようこそコーデの世界へ！！\n",
        "\n",
        "## セルごとの実行\n",
        "PythonのNotebookでは、コードをセルごとに分けて実行できます。これにより：\n",
        "- コードの実行結果を段階的に確認できる\n",
        "- 特定の部分だけを再実行できる\n",
        "- 実行順序を自由に変更できる\n",
        "\n",
        "これらの特徴は、データ分析やプログラム開発で非常に役立ちます！\n",
        "\n",
        "## 便利なライブラリ\n",
        "ライブラリとは、エンジニアが作成した便利な機能をまとめたものです。\n",
        "- 複雑な処理も簡単なコマンドで実行可能\n",
        "- 初心者でも高度な機能を使えるようになる\n",
        "\n",
        "## これからの学習\n",
        "これから、APIの基礎を学んでいきます。初心者の方でも理解しやすいように、\n",
        "ステップバイステップで説明していきますので、安心してついてきてください！\n",
        "\n"
      ]
    },
    {
      "cell_type": "markdown",
      "metadata": {
        "id": "8e8NE5eQ4PRP"
      },
      "source": [
        "## ○目標\n",
        "*   APIで実際に呼び出し、APIの仕組みを理解する\n",
        "\n",
        "## ○学び取っていただきたいこと：\n",
        "*   HTTP通信の使い方\n",
        "*   APIの仕組み\n",
        "\n",
        "\n",
        "\n",
        "\n"
      ]
    },
    {
      "cell_type": "markdown",
      "metadata": {
        "id": "582f45ec"
      },
      "source": [
        "## 必要なライブラリ（実行時の環境）\n",
        "* requests\n",
        "* "
      ]
    },
    {
      "cell_type": "markdown",
      "metadata": {},
      "source": [
        "# ① APIとHTTP通信の基礎\n",
        "API（Application Programming Interface）は、異なるソフトウェアがやり取りを行うための仕組みです。HTTP通信は、APIを通じてデータをリクエスト（要求）したり、受け取ったりするプロトコルです。"
      ]
    },
    {
      "cell_type": "markdown",
      "metadata": {
        "id": "amIR69oxs9qZ"
      },
      "source": []
    },
    {
      "cell_type": "code",
      "execution_count": null,
      "metadata": {
        "id": "gLMZjvIos-iv"
      },
      "outputs": [],
      "source": [
        "##################### シャープはコメントアウトと呼び、コード部分ではない解説やメモを記載できます #######################"
      ]
    },
    {
      "cell_type": "markdown",
      "metadata": {
        "id": "143e818c"
      },
      "source": [
        "### ⓪ ライブラリのインストール"
      ]
    },
    {
      "cell_type": "code",
      "execution_count": null,
      "metadata": {
        "colab": {
          "base_uri": "https://localhost:8080/"
        },
        "id": "5f18f386",
        "outputId": "7b5e9156-e37f-4080-9cfa-03c668c6e5b9"
      },
      "outputs": [],
      "source": [
        "!pip install requests"
      ]
    },
    {
      "cell_type": "markdown",
      "metadata": {},
      "source": [
        "## ② GETリクエストの実践 (Python)\n",
        "ここでは、ホンダ株式会社をWikipedia APIを使って検索し、データを表示します。"
      ]
    },
    {
      "cell_type": "markdown",
      "metadata": {},
      "source": [
        "### ②-(1) ホンダ株式会社を検索"
      ]
    },
    {
      "cell_type": "code",
      "execution_count": null,
      "metadata": {
        "id": "34f8cc63"
      },
      "outputs": [],
      "source": [
        "import requests\n",
        "\n",
        "# Wikipedia APIでホンダ株式会社に関する情報を取得\n",
        "search_term = \"本田技研工業\"\n",
        "url = f\"https://ja.wikipedia.org/api/rest_v1/page/summary/{search_term.replace(' ', '_')}\"\n",
        "response = requests.get(url)\n",
        "\n",
        "# 取得したデータを表示\n",
        "data = response.json()\n",
        "print(f\"Title: {data['title']}\")\n",
        "print(f\"Extract: {data['extract']}\")\n",
        "\n",
        "#このコードでは、Wikipedia APIを使用して「ホンダ株式会社」に関する概要情報を取得しています。"
      ]
    },
    {
      "cell_type": "code",
      "execution_count": null,
      "metadata": {},
      "outputs": [],
      "source": [
        "#JSONファイルでWikipediaからデータが返ってきていることがわかります\n",
        "data"
      ]
    },
    {
      "cell_type": "markdown",
      "metadata": {},
      "source": [
        "### ②-(2) 検索したデータの表示"
      ]
    },
    {
      "cell_type": "code",
      "execution_count": null,
      "metadata": {
        "id": "5_4gP_tJK2ku"
      },
      "outputs": [],
      "source": [
        "# 取得したデータをさらに詳細に表示\n",
        "print(f\"Title: {data['title']}\")\n",
        "print(f\"Description: {data['description']}\")\n",
        "print(f\"Content: {data['extract']}\")\n",
        "print(f\"Article URL: {data['content_urls']['desktop']['page']}\")\n",
        "\n"
      ]
    },
    {
      "cell_type": "code",
      "execution_count": null,
      "metadata": {},
      "outputs": [],
      "source": [
        "### やってみよう！\n",
        "#### JSONのKeyを変えて自分が出してみたいデータを表示させてみる\n",
        "print(\"やってみよう\", data['ここのKeyを指定'])"
      ]
    },
    {
      "cell_type": "markdown",
      "metadata": {},
      "source": [
        "### ②-(3) 一部データを表示し、画像を表示"
      ]
    },
    {
      "cell_type": "code",
      "execution_count": null,
      "metadata": {},
      "outputs": [],
      "source": [
        "# 画像がある場合、画像URLを表示\n",
        "from IPython.display import Image, display\n",
        "\n",
        "# サムネイル画像が存在する場合、画像URLを表示し、画像を表示する\n",
        "if 'thumbnail' in data:\n",
        "    image_url = data['thumbnail']['source']\n",
        "    print(f\"Image URL: {image_url}\")\n",
        "    display(Image(url=image_url))\n",
        "else:\n",
        "    print(\"No image available\")"
      ]
    },
    {
      "cell_type": "markdown",
      "metadata": {},
      "source": [
        "## ③その他のAPIも試してみる\n",
        "APIはさまざまなサービスで提供されています。それらのAPIを試してみましょう。"
      ]
    },
    {
      "cell_type": "markdown",
      "metadata": {
        "id": "e83fb486"
      },
      "source": [
        "### ③-1：天気予報\n",
        "気象庁が出してくれている天気予報APIを使用してみる"
      ]
    },
    {
      "cell_type": "code",
      "execution_count": null,
      "metadata": {
        "colab": {
          "base_uri": "https://localhost:8080/"
        },
        "id": "cc06cb2f",
        "outputId": "4e455df2-2d26-47e1-ffe2-532ecb591bfa"
      },
      "outputs": [],
      "source": [
        "# 気象庁の天気予報APIを使用して天気情報を取得する\n",
        "import requests\n",
        "\n",
        "# APIエンドポイント\n",
        "url = \"https://www.jma.go.jp/bosai/forecast/data/forecast/130000.json\"\n",
        "\n",
        "# APIリクエストを送信\n",
        "response = requests.get(url)\n",
        "\n",
        "# レスポンスをJSON形式で取得\n",
        "weather_data = response.json()\n",
        "\n",
        "# 天気情報の表示\n",
        "for area in weather_data[0]['timeSeries'][0]['areas']:\n",
        "    print(f\"地域: {area['area']['name']}\")\n",
        "    print(f\"天気: {area['weathers'][0]}\")\n",
        "    print(f\"風: {area['winds'][0]}\")\n",
        "    print(f\"波: {area['waves'][0]}\")\n",
        "    print()"
      ]
    },
    {
      "cell_type": "markdown",
      "metadata": {},
      "source": [
        "### ④ APIでキーなどの認証情報が必要な場合\n",
        "これまでは認証情報が必要なAPIは扱いませんでしたが、APIを活用する場合は認証情報が必要な場合があります。"
      ]
    },
    {
      "cell_type": "markdown",
      "metadata": {
        "id": "f0d1e80a"
      },
      "source": [
        "### ④-1： 楽天トラベルAPI\n",
        "今回は事前に用意したとあるテキストデータを活用して、プロンプトエンジニアリングとGPTでいろんな処理を体験してみましょう。"
      ]
    },
    {
      "cell_type": "code",
      "execution_count": null,
      "metadata": {},
      "outputs": [],
      "source": [
        "# アクセス先を指定。\n",
        "REQUEST_URL = 'https://app.rakuten.co.jp/services/api/Travel/SimpleHotelSearch/20170426' # アクセス先を指定する必要があるので、アクセス先をREQUEST_URLという変数に代入しておきます。\n",
        "\n",
        "# 認証IDを指定\n",
        "APP_ID = '1011509919335500197' # アクセスを許可されたユーザーという事を証明するために、APP_IDに認証IDを代入しておきます。\n",
        "\n",
        "# アクセス先と認証を用意できたので、なんのデータが欲しいか（要求するデータの）をparamsに代入しておきます。\n",
        "# paramsでの指定方法はAPIの作成者によって変わりますので、事前に確認しておく必要があります。\n",
        "params = {\n",
        "    'format':'json',\n",
        "    'largeClassCode': 'japan',\n",
        "    'middleClassCode': 'okinawa',\n",
        "    'smallClassCode': 'nahashi',\n",
        "    'applicationId': APP_ID\n",
        "}\n",
        "\n",
        "# アクセス先と認証と要求するデータの内容を指定出来たので、次はrequestsのgetメソッドを使ってアクセスします。"
      ]
    },
    {
      "cell_type": "code",
      "execution_count": null,
      "metadata": {},
      "outputs": [],
      "source": [
        "# requestsのgetメソッドを使ってアクセス\n",
        "# その結果をresに代入します。\n",
        "res = requests.get(REQUEST_URL, params)\n",
        "\n",
        "# 欲しいデータはresのjsonに格納されているので、res.json()をresultに代入しておきましょう。\n",
        "result = res.json()\n",
        "# これでAPIで取得したデータはresultに代入されます。"
      ]
    },
    {
      "cell_type": "code",
      "execution_count": null,
      "metadata": {},
      "outputs": [],
      "source": [
        "# resultをJSON形式で保存するためのコードを追加します。\n",
        "import json\n",
        "\n",
        "# resultをJSON形式で保存する関数を定義します。\n",
        "def save_result_to_json(result, filename):\n",
        "    # ファイルを書き込みモードで開く\n",
        "    with open(filename, 'w', encoding='utf-8') as f:\n",
        "        # JSON形式でファイルに書き込む\n",
        "        json.dump(result, f, ensure_ascii=False, indent=4)\n",
        "\n",
        "# 関数を呼び出してresultを保存します。\n",
        "save_result_to_json(result, 'Rakuten.json')\n",
        "\n",
        "\n"
      ]
    },
    {
      "cell_type": "code",
      "execution_count": null,
      "metadata": {},
      "outputs": [],
      "source": [
        "# １つ目に格納されているホテル詳細を取得する\n",
        "result['hotels'][0]['hotel'][0]['hotelBasicInfo']"
      ]
    },
    {
      "cell_type": "code",
      "execution_count": null,
      "metadata": {},
      "outputs": [],
      "source": [
        "import pandas as pd\n",
        "\n",
        "# データを構造化してDataFrameに変換します。\n",
        "df = pd.DataFrame([result['hotels'][0]['hotel'][0]['hotelBasicInfo']])"
      ]
    },
    {
      "cell_type": "code",
      "execution_count": null,
      "metadata": {},
      "outputs": [],
      "source": [
        "#中に入っているデータを確認してみましょう\n",
        "df"
      ]
    },
    {
      "cell_type": "markdown",
      "metadata": {},
      "source": [
        "### ⑤ データの保存\n",
        "APIで取得したデータをGoogleスプレッドシートやエクセルに保存することができます。\n",
        "うまく活用することで、業務効率化に役立ちます。"
      ]
    },
    {
      "cell_type": "markdown",
      "metadata": {},
      "source": [
        "### ⑤-1 GoogleSpreadシートへ反映（エクセルなども可能\n",
        "今回は簡易に使えるGoogleSpreadSheetに反映してみましょう。\n",
        "会社の中ではエクセルやデータベースに格納することが多いと思いますので、今回はその練習としてGoogleSpreadSheetに反映してみましょう。"
      ]
    },
    {
      "cell_type": "code",
      "execution_count": null,
      "metadata": {},
      "outputs": [],
      "source": [
        "#Googleスプレッドシートに反映するために必要なライブラリをインストールします。\n",
        "!pip install gspread oauth2client"
      ]
    },
    {
      "cell_type": "code",
      "execution_count": null,
      "metadata": {
        "id": "ncMVAJZ-4_UJ"
      },
      "outputs": [],
      "source": [
        "# GoogleSpreadSheetに反映するためのコードを記載します。\n",
        "\n",
        "import gspread\n",
        "from oauth2client.service_account import ServiceAccountCredentials\n",
        "\n",
        "# GoogleSpreadSheetにアクセスするための認証情報を設定します。\n",
        "# 今回はこちらが用意したものを使いますが、会社の中では部門で用意すると良いでしょう\n",
        "scope = [\"https://spreadsheets.google.com/feeds\", \"https://www.googleapis.com/auth/drive\"]\n",
        "creds = ServiceAccountCredentials.from_json_keyfile_name(\"shaped-manifest-435003-k0-0eaf2e16b593.json\", scope)\n",
        "client = gspread.authorize(creds)\n",
        "\n",
        "# スプレッドシートを開きます。スプレッドシートの名前を指定してください。\n",
        "spreadsheet = client.open(\"API\")\n",
        "\n",
        "sheet_name = \"sample\" #このスプレッドシートの名前を変えてみて下さい\n",
        "\n",
        "# ワークシートを選択します。ワークシートの名前を指定してください。\n",
        "try:\n",
        "    # ワークシートを選択します。ワークシートの名前を指定してください。\n",
        "    worksheet = spreadsheet.worksheet(sheet_name)\n",
        "except gspread.exceptions.WorksheetNotFound:\n",
        "    # ワークシートが存在しない場合は新しく作成します。\n",
        "    worksheet = spreadsheet.add_worksheet(title=sheet_name, rows=\"100\", cols=\"20\")\n",
        "\n",
        "worksheet = spreadsheet.worksheet(sheet_name)\n",
        "\n",
        "# データをワークシートに書き込みます。\n",
        "# 例として、dfのデータをA1セルから書き込むとします。\n",
        "# dfのデータをA1のセルに書き込むためのコードを記載します。\n",
        "worksheet.update([df.columns.values.tolist()] + df.values.tolist())\n"
      ]
    },
    {
      "cell_type": "markdown",
      "metadata": {},
      "source": [
        "# おつかれさまでした！！！\n",
        "前半のAPIセッションはここまでとさせていただきます。\n",
        "\n",
        "Googleスプレッドシートへの記載は簡易するために簡単な反映にしましたが、本来は\n",
        "- APIを決められた時間に取得して記載\n",
        "- API以外にもメールやログを記載\n",
        "- 必要な場所へ反映\n",
        "- 差分を検知する\n",
        "なども可能ですので、そんなアイデアもあるのか！と、ぜひぜひ考えてみてください！"
      ]
    },
    {
      "cell_type": "markdown",
      "metadata": {},
      "source": []
    }
  ],
  "metadata": {
    "accelerator": "GPU",
    "colab": {
      "gpuType": "T4",
      "provenance": []
    },
    "kernelspec": {
      "display_name": "Python 3",
      "name": "python3"
    },
    "language_info": {
      "codemirror_mode": {
        "name": "ipython",
        "version": 3
      },
      "file_extension": ".py",
      "mimetype": "text/x-python",
      "name": "python",
      "nbconvert_exporter": "python",
      "pygments_lexer": "ipython3",
      "version": "3.11.9"
    }
  },
  "nbformat": 4,
  "nbformat_minor": 0
}
